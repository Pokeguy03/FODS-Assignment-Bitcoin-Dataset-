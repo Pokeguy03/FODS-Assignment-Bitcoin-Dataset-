{
 "cells": [
  {
   "cell_type": "code",
   "execution_count": 49,
   "id": "3fc98f49-cd77-40e9-a13d-73dd13a8b07f",
   "metadata": {},
   "outputs": [
    {
     "name": "stdout",
     "output_type": "stream",
     "text": [
      "First 4 rows of the dataset:\n",
      "           Date     Open     High      Low    Close         Volume  \\\n",
      "0  Aug 07, 2017  3212.78  3397.68  3180.89  3378.94  1,482,280,000   \n",
      "1  Aug 06, 2017  3257.61  3293.29  3155.60  3213.94  1,105,030,000   \n",
      "2  Aug 05, 2017  2897.63  3290.01  2874.83  3252.91  1,945,700,000   \n",
      "3  Aug 04, 2017  2806.93  2899.33  2743.72  2895.89  1,002,120,000   \n",
      "\n",
      "       Market Cap  \n",
      "0  52,987,300,000  \n",
      "1  53,720,900,000  \n",
      "2  47,778,200,000  \n",
      "3  46,276,200,000  \n",
      "\n",
      "==================================================\n",
      "\n",
      "Features in the dataset\n",
      "Index(['Date', 'Open', 'High', 'Low', 'Close', 'Volume', 'Market Cap'], dtype='object')\n",
      "\n",
      "==================================================\n",
      "\n",
      "Data types of the features\n",
      "Date           object\n",
      "Open          float64\n",
      "High          float64\n",
      "Low           float64\n",
      "Close         float64\n",
      "Volume         object\n",
      "Market Cap     object\n",
      "dtype: object\n",
      "\n",
      "==================================================\n",
      "\n",
      "Summary Statistics of numerical features\n",
      "              Open         High          Low        Close\n",
      "count     7.000000     7.000000     7.000000     7.000000\n",
      "mean   2926.134286  3053.928571  2856.340000  2996.477143\n",
      "std     222.327835   263.148120   224.210701   278.478301\n",
      "min    2709.560000  2762.530000  2668.590000  2710.670000\n",
      "25%    2767.030000  2856.320000  2685.375000  2761.495000\n",
      "50%    2871.300000  2921.350000  2743.720000  2895.890000\n",
      "75%    3055.205000  3291.650000  3015.215000  3233.425000\n",
      "max    3257.610000  3397.680000  3180.890000  3378.940000\n",
      "\n",
      "==================================================\n",
      "\n",
      "Dataset Information:\n",
      "<class 'pandas.core.frame.DataFrame'>\n",
      "RangeIndex: 7 entries, 0 to 6\n",
      "Data columns (total 7 columns):\n",
      " #   Column      Non-Null Count  Dtype  \n",
      "---  ------      --------------  -----  \n",
      " 0   Date        7 non-null      object \n",
      " 1   Open        7 non-null      float64\n",
      " 2   High        7 non-null      float64\n",
      " 3   Low         7 non-null      float64\n",
      " 4   Close       7 non-null      float64\n",
      " 5   Volume      7 non-null      object \n",
      " 6   Market Cap  7 non-null      object \n",
      "dtypes: float64(4), object(3)\n",
      "memory usage: 524.0+ bytes\n",
      "None\n"
     ]
    }
   ],
   "source": [
    "import pandas as pd\n",
    "df=pd.read_csv(\"bitcoin.csv\")\n",
    "print(\"First 4 rows of the dataset:\")\n",
    "print(df.head(4))\n",
    "print(\"\\n\"+\"=\"*50+\"\\n\")\n",
    "print(\"Features in the dataset\")\n",
    "print(df.columns)\n",
    "print(\"\\n\"+\"=\"*50+\"\\n\")\n",
    "print(\"Data types of the features\")\n",
    "print(df.dtypes)\n",
    "print(\"\\n\"+\"=\"*50+\"\\n\")\n",
    "print(\"five pont or number summary using describe fun()\")\n",
    "print(df.describe())\n",
    "print(\"\\n\"+\"=\"*50+\"\\n\")\n",
    "print(\"Dataset Information:\")\n",
    "print(df.info())\n",
    "print(\"\\n\"+\"=\"*50+\"\\n\")\n",
    "\n"
   ]
  },
  {
   "cell_type": "code",
   "execution_count": null,
   "id": "1d0407a8-599f-4cdf-a5d6-7a40948b55d8",
   "metadata": {},
   "outputs": [],
   "source": []
  }
 ],
 "metadata": {
  "kernelspec": {
   "display_name": "Python 3 (ipykernel)",
   "language": "python",
   "name": "python3"
  },
  "language_info": {
   "codemirror_mode": {
    "name": "ipython",
    "version": 3
   },
   "file_extension": ".py",
   "mimetype": "text/x-python",
   "name": "python",
   "nbconvert_exporter": "python",
   "pygments_lexer": "ipython3",
   "version": "3.12.4"
  }
 },
 "nbformat": 4,
 "nbformat_minor": 5
}
